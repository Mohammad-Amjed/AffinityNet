{
 "cells": [
  {
   "cell_type": "code",
   "execution_count": 7,
   "id": "78cdc753-c05d-4ae4-8f7a-53889f3d30df",
   "metadata": {
    "scrolled": true
   },
   "outputs": [
    {
     "name": "stdout",
     "output_type": "stream",
     "text": [
      "                                       Ligand SMILES  \\\n",
      "0  O[C@@H]1[C@@H](O)[C@@H](Cc2ccccc2)N(CCCCCC(O)=...   \n",
      "1  O[C@@H]1[C@@H](O)[C@@H](Cc2ccccc2)N(C\\C=C\\c2cn...   \n",
      "2  O[C@@H]1[C@@H](O)[C@@H](Cc2ccccc2)N(CC2CC2)C(=...   \n",
      "3  OCCCCCCN1[C@H](Cc2ccccc2)[C@H](O)[C@@H](O)[C@@...   \n",
      "4  OCCCCCN1[C@H](Cc2ccccc2)[C@H](O)[C@@H](O)[C@@H...   \n",
      "5  CCCCN1[C@H](Cc2ccccc2)[C@H](O)[C@@H](O)[C@@H](...   \n",
      "6  O[C@@H]1[C@@H](O)[C@@H](Cc2ccccc2)N(CC2CCC2)C(...   \n",
      "7  OCCCCCN1[C@H](Cc2ccccc2)[C@H](O)[C@@H](O)[C@@H...   \n",
      "8  CCCCN1[C@H](Cc2ccccc2)[C@H](O)[C@@H](O)[C@@H](...   \n",
      "9  CC(C)=CCN1[C@H](Cc2ccccc2)[C@H](O)[C@@H](O)[C@...   \n",
      "\n",
      "                                        Ligand InChI  \\\n",
      "0  InChI=1S/C31H42N2O7/c34-27(35)17-9-3-11-19-32-...   \n",
      "1  InChI=1S/C31H34N6O3/c38-29-27(17-23-9-3-1-4-10...   \n",
      "2  InChI=1S/C29H34N4O3/c34-27-25(16-21-8-3-1-4-9-...   \n",
      "3  InChI=1S/C29H40N2O4/c32-18-10-2-1-9-17-30-25(1...   \n",
      "4  InChI=1S/C28H38N2O4/c31-17-9-3-8-16-29-24(18-2...   \n",
      "5  InChI=1S/C27H36N2O3/c1-2-3-16-28-23(17-20-10-6...   \n",
      "6  InChI=1S/C29H38N2O3/c32-27-25(17-21-9-3-1-4-10...   \n",
      "7  InChI=1S/C29H42N2O5/c32-19-11-3-9-17-30-25(21-...   \n",
      "8  InChI=1S/C27H38N2O3/c1-3-5-17-28-23(19-21-13-9...   \n",
      "9  InChI=1S/C29H38N2O3/c1-21(2)15-17-30-25(19-23-...   \n",
      "\n",
      "              Ligand InChI Key  \\\n",
      "0  XGEGDSLAQZJGCW-UHFFFAOYSA-N   \n",
      "1  UZLMEAPBHYEHAC-UNTBESQGSA-N   \n",
      "2  HYNYUFZPPJMPOB-UTWJFGBXSA-N   \n",
      "3  YXVAZXDWVZTGGD-VIJSPRBVSA-N   \n",
      "4  WWTSWTPNILRSJX-XDZXDJIYSA-N   \n",
      "5  QDUGHFLRTUTUJH-XPGKHFPBSA-N   \n",
      "6  ACIVSSKFPCODPQ-VIJSPRBVSA-N   \n",
      "7  IXMFJRZMSUIMQY-VIJSPRBVSA-N   \n",
      "8  USVBEQBEZXWMMT-XPGKHFPBSA-N   \n",
      "9  AJMLQZYOPGTFTI-VIJSPRBVSA-N   \n",
      "\n",
      "                               BindingDB Ligand Name  \\\n",
      "0  6-[(4R,5S,6S,7R)-4,7-dibenzyl-3-(5-carboxypent...   \n",
      "1  (4R,5S,6S,7R)-4,7-dibenzyl-5,6-dihydroxy-1,3-b...   \n",
      "2  (4R,5S,6S,7R)-4,7-dibenzyl-1-(cyclopropylmethy...   \n",
      "3  (4R,5S,6S,7R)-4,7-dibenzyl-1-(cyclopropylmethy...   \n",
      "4  (4R,5S,6S,7R)-4,7-dibenzyl-1-(cyclopropylmethy...   \n",
      "5  (4R,5S,6S,7R)-4,7-dibenzyl-1-butyl-3-(cyclopro...   \n",
      "6  (4R,5S,6S,7R)-4,7-dibenzyl-1,3-bis(cyclobutylm...   \n",
      "7  (4R,5S,6S,7R)-4,7-dibenzyl-5,6-dihydroxy-1,3-b...   \n",
      "8  (4R,5S,6S,7R)-4,7-dibenzyl-1,3-dibutyl-5,6-dih...   \n",
      "9  (4R,5S,6S,7R)-4,7-dibenzyl-5,6-dihydroxy-1,3-b...   \n",
      "\n",
      "                              Target Name Ki (nM) IC50 (nM) Kd (nM) EC50 (nM)  \\\n",
      "0  Dimer of Gag-Pol polyprotein [501-599]    0.24       NaN     NaN       NaN   \n",
      "1  Dimer of Gag-Pol polyprotein [501-599]    0.25       NaN     NaN       NaN   \n",
      "2  Dimer of Gag-Pol polyprotein [501-599]    0.41       NaN     NaN       NaN   \n",
      "3  Dimer of Gag-Pol polyprotein [501-599]     0.8       NaN     NaN       NaN   \n",
      "4  Dimer of Gag-Pol polyprotein [501-599]    0.99       NaN     NaN       NaN   \n",
      "5  Dimer of Gag-Pol polyprotein [501-599]     1.1       NaN     NaN       NaN   \n",
      "6  Dimer of Gag-Pol polyprotein [501-599]     1.3       NaN     NaN       NaN   \n",
      "7  Dimer of Gag-Pol polyprotein [501-599]     1.4       NaN     NaN       NaN   \n",
      "8  Dimer of Gag-Pol polyprotein [501-599]     1.6       NaN     NaN       NaN   \n",
      "9  Dimer of Gag-Pol polyprotein [501-599]     1.8       NaN     NaN       NaN   \n",
      "\n",
      "  kon (M-1-s-1) koff (s-1)      pH Temp (C)  \\\n",
      "0           NaN        NaN  5.5000  37.00 C   \n",
      "1           NaN        NaN     5.5  37.00 C   \n",
      "2           NaN        NaN     5.5  37.00 C   \n",
      "3           NaN        NaN     5.5  37.00 C   \n",
      "4           NaN        NaN     5.5  37.00 C   \n",
      "5           NaN        NaN     5.5  37.00 C   \n",
      "6           NaN        NaN     5.5  37.00 C   \n",
      "7           NaN        NaN     5.5  37.00 C   \n",
      "8           NaN        NaN     5.5  37.00 C   \n",
      "9           NaN        NaN     5.5  37.00 C   \n",
      "\n",
      "  PDB ID(s) for Ligand-Target Complex  \\\n",
      "0                                 NaN   \n",
      "1                                 NaN   \n",
      "2                                 NaN   \n",
      "3                                 NaN   \n",
      "4                                 NaN   \n",
      "5                                 NaN   \n",
      "6                                 NaN   \n",
      "7                                 NaN   \n",
      "8                                 NaN   \n",
      "9                                 NaN   \n",
      "\n",
      "                   BindingDB Target Chain Sequence 1  \\\n",
      "0  PQITLWQRPLVTIKIGGQLKEALLDTGADDTVLEEMSLPGRWKPKM...   \n",
      "1  PQITLWQRPLVTIKIGGQLKEALLDTGADDTVLEEMSLPGRWKPKM...   \n",
      "2  PQITLWQRPLVTIKIGGQLKEALLDTGADDTVLEEMSLPGRWKPKM...   \n",
      "3  PQITLWQRPLVTIKIGGQLKEALLDTGADDTVLEEMSLPGRWKPKM...   \n",
      "4  PQITLWQRPLVTIKIGGQLKEALLDTGADDTVLEEMSLPGRWKPKM...   \n",
      "5  PQITLWQRPLVTIKIGGQLKEALLDTGADDTVLEEMSLPGRWKPKM...   \n",
      "6  PQITLWQRPLVTIKIGGQLKEALLDTGADDTVLEEMSLPGRWKPKM...   \n",
      "7  PQITLWQRPLVTIKIGGQLKEALLDTGADDTVLEEMSLPGRWKPKM...   \n",
      "8  PQITLWQRPLVTIKIGGQLKEALLDTGADDTVLEEMSLPGRWKPKM...   \n",
      "9  PQITLWQRPLVTIKIGGQLKEALLDTGADDTVLEEMSLPGRWKPKM...   \n",
      "\n",
      "                         PDB ID(s) of Target Chain 1  \\\n",
      "0  1W5Y,1W5X,1W5W,1W5V,2FDE,7UPJ,6UWC,6UWB,6D0E,6...   \n",
      "1  1C70,1D4H,1D4I,1D4J,1DIF,1EBW,1EBZ,1EC0,1EC1,1...   \n",
      "2  1C70,1D4H,1D4I,1D4J,1DIF,1EBW,1EBZ,1EC0,1EC1,1...   \n",
      "3  1C70,1D4H,1D4I,1D4J,1DIF,1EBW,1EBZ,1EC0,1EC1,1...   \n",
      "4  1C70,1D4H,1D4I,1D4J,1DIF,1EBW,1EBZ,1EC0,1EC1,1...   \n",
      "5  1C70,1D4H,1D4I,1D4J,1DIF,1EBW,1EBZ,1EC0,1EC1,1...   \n",
      "6  1C70,1D4H,1D4I,1D4J,1DIF,1EBW,1EBZ,1EC0,1EC1,1...   \n",
      "7  1C70,1D4H,1D4I,1D4J,1DIF,1EBW,1EBZ,1EC0,1EC1,1...   \n",
      "8  1C70,1D4H,1D4I,1D4J,1DIF,1EBW,1EBZ,1EC0,1EC1,1...   \n",
      "9  1C70,1D4H,1D4I,1D4J,1DIF,1EBW,1EBZ,1EC0,1EC1,1...   \n",
      "\n",
      "  UniProt (SwissProt) Primary ID of Target Chain 1 affinity_raw  affinity_nM  \\\n",
      "0                                           P03367         0.24         0.24   \n",
      "1                                           P03367         0.25         0.25   \n",
      "2                                           P03367         0.41         0.41   \n",
      "3                                           P03367          0.8         0.80   \n",
      "4                                           P03367         0.99         0.99   \n",
      "5                                           P03367          1.1         1.10   \n",
      "6                                           P03367          1.3         1.30   \n",
      "7                                           P03367          1.4         1.40   \n",
      "8                                           P03367          1.6         1.60   \n",
      "9                                           P03367          1.8         1.80   \n",
      "\n",
      "       pAff  \n",
      "0  9.619789  \n",
      "1  9.602060  \n",
      "2  9.387216  \n",
      "3  9.096910  \n",
      "4  9.004365  \n",
      "5  8.958607  \n",
      "6  8.886057  \n",
      "7  8.853872  \n",
      "8  8.795880  \n",
      "9  8.744727  \n",
      "Rows kept: 10\n"
     ]
    }
   ],
   "source": [
    "import pandas as pd\n",
    "import numpy as np\n",
    "import re\n",
    "\n",
    "# Expanded relevant columns for ligand–protein binding prediction\n",
    "usecols = [\n",
    "    # Ligand identifiers\n",
    "    \"Ligand SMILES\", \"Ligand InChI\", \"Ligand InChI Key\", \"BindingDB Ligand Name\",\n",
    "\n",
    "    # Protein identifiers & sequences\n",
    "    \"Target Name\",\n",
    "    \"UniProt (SwissProt) Primary ID of Target Chain 1\",\n",
    "    \"BindingDB Target Chain Sequence 1\",\n",
    "\n",
    "    # Structure info\n",
    "    \"PDB ID(s) of Target Chain 1\",\n",
    "    \"PDB ID(s) for Ligand-Target Complex\",\n",
    "\n",
    "    # Binding measurements\n",
    "    \"Ki (nM)\", \"Kd (nM)\", \"IC50 (nM)\", \"EC50 (nM)\",\n",
    "\n",
    "    # Kinetics\n",
    "    \"kon (M-1-s-1)\", \"koff (s-1)\",\n",
    "\n",
    "    # Experimental conditions\n",
    "    \"pH\", \"Temp (C)\"\n",
    "]\n",
    "\n",
    "# Read dataset (strings to preserve raw formatting for cleaning)\n",
    "df = pd.read_csv(\n",
    "    \"BindingDB_All.tsv\",\n",
    "    sep=\"\\t\",\n",
    "    usecols=usecols,\n",
    "    dtype=str,\n",
    "    low_memory=False,\n",
    "    nrows=500000  # limit for testing; remove for full dataset\n",
    ")\n",
    "\n",
    "# Keep rows with at least one measurement\n",
    "df = df.dropna(subset=[\"Ki (nM)\", \"Kd (nM)\", \"IC50 (nM)\", \"EC50 (nM)\"], how=\"all\")\n",
    "\n",
    "# Pick first non-null measurement\n",
    "df[\"affinity_raw\"] = (\n",
    "    df[\"Ki (nM)\"].fillna(df[\"Kd (nM)\"])\n",
    "    .fillna(df[\"IC50 (nM)\"])\n",
    "    .fillna(df[\"EC50 (nM)\"])\n",
    ")\n",
    "\n",
    "# Extract numeric values\n",
    "def extract_num(x):\n",
    "    if pd.isna(x):\n",
    "        return np.nan\n",
    "    m = re.search(r'[-+]?\\d*\\.?\\d+(?:[eE][-+]?\\d+)?', str(x))\n",
    "    return float(m.group()) if m else np.nan\n",
    "\n",
    "df[\"affinity_nM\"] = df[\"affinity_raw\"].map(extract_num)\n",
    "\n",
    "# Keep only valid positive numeric affinities\n",
    "df = df.dropna(subset=[\"affinity_nM\"])\n",
    "df = df[df[\"affinity_nM\"] > 0]\n",
    "\n",
    "# Convert to pAffinity (nM -> M)\n",
    "df[\"pAff\"] = -np.log10(df[\"affinity_nM\"] * 1e-9)\n",
    "# df[\"is_strong\"] = (df[\"pAff\"] >= 7.0).astype(int)\n",
    "\n",
    "# Save cleaned dataset\n",
    "df.to_csv(\"bindingdb_cleaned_test1000.csv\", index=False)\n",
    "\n",
    "# Preview\n",
    "print(df.head(10))\n",
    "print(\"Rows kept:\", len(df))\n"
   ]
  },
  {
   "cell_type": "code",
   "execution_count": 3,
   "id": "1f2f5a09-68fb-4507-94f2-4eda38983f32",
   "metadata": {},
   "outputs": [
    {
     "name": "stderr",
     "output_type": "stream",
     "text": [
      "Epochs:   3%|▎         | 1/30 [01:11<34:31, 71.44s/epoch]"
     ]
    },
    {
     "name": "stdout",
     "output_type": "stream",
     "text": [
      "Epoch 1/30  train_loss(z)=0.7540  |  val_RMSE=1.1498  MAE=0.8941  R2=0.5327\n"
     ]
    },
    {
     "name": "stderr",
     "output_type": "stream",
     "text": [
      "Epochs:   7%|▋         | 2/30 [02:23<33:26, 71.67s/epoch]"
     ]
    },
    {
     "name": "stdout",
     "output_type": "stream",
     "text": [
      "Epoch 2/30  train_loss(z)=0.4558  |  val_RMSE=1.1265  MAE=0.8849  R2=0.5514\n"
     ]
    },
    {
     "name": "stderr",
     "output_type": "stream",
     "text": [
      "Epochs:  10%|█         | 3/30 [03:35<32:17, 71.75s/epoch]"
     ]
    },
    {
     "name": "stdout",
     "output_type": "stream",
     "text": [
      "Epoch 3/30  train_loss(z)=0.4085  |  val_RMSE=1.0320  MAE=0.7923  R2=0.6236\n"
     ]
    },
    {
     "name": "stderr",
     "output_type": "stream",
     "text": [
      "Epochs:  13%|█▎        | 4/30 [04:46<31:04, 71.71s/epoch]"
     ]
    },
    {
     "name": "stdout",
     "output_type": "stream",
     "text": [
      "Epoch 4/30  train_loss(z)=0.3725  |  val_RMSE=0.9829  MAE=0.7580  R2=0.6586\n"
     ]
    },
    {
     "name": "stderr",
     "output_type": "stream",
     "text": [
      "Epochs:  17%|█▋        | 5/30 [05:58<29:50, 71.64s/epoch]"
     ]
    },
    {
     "name": "stdout",
     "output_type": "stream",
     "text": [
      "Epoch 5/30  train_loss(z)=0.3438  |  val_RMSE=0.9867  MAE=0.7822  R2=0.6559\n"
     ]
    },
    {
     "name": "stderr",
     "output_type": "stream",
     "text": [
      "Epochs:  20%|██        | 6/30 [07:09<28:39, 71.63s/epoch]"
     ]
    },
    {
     "name": "stdout",
     "output_type": "stream",
     "text": [
      "Epoch 6/30  train_loss(z)=0.3234  |  val_RMSE=0.9572  MAE=0.7357  R2=0.6761\n"
     ]
    },
    {
     "name": "stderr",
     "output_type": "stream",
     "text": [
      "Epochs:  23%|██▎       | 7/30 [08:21<27:26, 71.59s/epoch]"
     ]
    },
    {
     "name": "stdout",
     "output_type": "stream",
     "text": [
      "Epoch 7/30  train_loss(z)=0.3070  |  val_RMSE=0.9276  MAE=0.7177  R2=0.6959\n"
     ]
    },
    {
     "name": "stderr",
     "output_type": "stream",
     "text": [
      "Epochs:  27%|██▋       | 8/30 [09:32<26:13, 71.54s/epoch]"
     ]
    },
    {
     "name": "stdout",
     "output_type": "stream",
     "text": [
      "Epoch 8/30  train_loss(z)=0.2934  |  val_RMSE=0.8938  MAE=0.6856  R2=0.7176\n"
     ]
    },
    {
     "name": "stderr",
     "output_type": "stream",
     "text": [
      "Epochs:  30%|███       | 9/30 [10:44<25:01, 71.51s/epoch]"
     ]
    },
    {
     "name": "stdout",
     "output_type": "stream",
     "text": [
      "Epoch 9/30  train_loss(z)=0.2803  |  val_RMSE=0.8842  MAE=0.6773  R2=0.7236\n"
     ]
    },
    {
     "name": "stderr",
     "output_type": "stream",
     "text": [
      "Epochs:  33%|███▎      | 10/30 [11:55<23:49, 71.48s/epoch]"
     ]
    },
    {
     "name": "stdout",
     "output_type": "stream",
     "text": [
      "Epoch 10/30  train_loss(z)=0.2695  |  val_RMSE=0.8679  MAE=0.6582  R2=0.7337\n"
     ]
    },
    {
     "name": "stderr",
     "output_type": "stream",
     "text": [
      "Epochs:  37%|███▋      | 11/30 [13:07<22:38, 71.48s/epoch]"
     ]
    },
    {
     "name": "stdout",
     "output_type": "stream",
     "text": [
      "Epoch 11/30  train_loss(z)=0.2587  |  val_RMSE=0.8426  MAE=0.6288  R2=0.7491\n"
     ]
    },
    {
     "name": "stderr",
     "output_type": "stream",
     "text": [
      "Epochs:  40%|████      | 12/30 [14:18<21:27, 71.53s/epoch]"
     ]
    },
    {
     "name": "stdout",
     "output_type": "stream",
     "text": [
      "Epoch 12/30  train_loss(z)=0.2494  |  val_RMSE=0.8322  MAE=0.6309  R2=0.7552\n"
     ]
    },
    {
     "name": "stderr",
     "output_type": "stream",
     "text": [
      "Epochs:  43%|████▎     | 13/30 [15:30<20:16, 71.58s/epoch]"
     ]
    },
    {
     "name": "stdout",
     "output_type": "stream",
     "text": [
      "Epoch 13/30  train_loss(z)=0.2388  |  val_RMSE=0.8326  MAE=0.6308  R2=0.7550\n"
     ]
    },
    {
     "name": "stderr",
     "output_type": "stream",
     "text": [
      "Epochs:  47%|████▋     | 14/30 [16:42<19:05, 71.59s/epoch]"
     ]
    },
    {
     "name": "stdout",
     "output_type": "stream",
     "text": [
      "Epoch 14/30  train_loss(z)=0.2307  |  val_RMSE=0.8092  MAE=0.5990  R2=0.7685\n"
     ]
    },
    {
     "name": "stderr",
     "output_type": "stream",
     "text": [
      "Epochs:  50%|█████     | 15/30 [17:53<17:53, 71.59s/epoch]"
     ]
    },
    {
     "name": "stdout",
     "output_type": "stream",
     "text": [
      "Epoch 15/30  train_loss(z)=0.2221  |  val_RMSE=0.7941  MAE=0.5901  R2=0.7771\n"
     ]
    },
    {
     "name": "stderr",
     "output_type": "stream",
     "text": [
      "Epochs:  53%|█████▎    | 16/30 [19:05<16:42, 71.64s/epoch]"
     ]
    },
    {
     "name": "stdout",
     "output_type": "stream",
     "text": [
      "Epoch 16/30  train_loss(z)=0.2140  |  val_RMSE=0.8004  MAE=0.6088  R2=0.7736\n"
     ]
    },
    {
     "name": "stderr",
     "output_type": "stream",
     "text": [
      "Epochs:  63%|██████▎   | 19/30 [22:40<13:07, 71.60s/epoch]"
     ]
    },
    {
     "name": "stdout",
     "output_type": "stream",
     "text": [
      "Epoch 19/30  train_loss(z)=0.1920  |  val_RMSE=0.7618  MAE=0.5673  R2=0.7949\n"
     ]
    },
    {
     "name": "stderr",
     "output_type": "stream",
     "text": [
      "Epochs:  67%|██████▋   | 20/30 [23:51<11:55, 71.56s/epoch]"
     ]
    },
    {
     "name": "stdout",
     "output_type": "stream",
     "text": [
      "Epoch 20/30  train_loss(z)=0.1864  |  val_RMSE=0.7651  MAE=0.5760  R2=0.7931\n"
     ]
    },
    {
     "name": "stderr",
     "output_type": "stream",
     "text": [
      "Epochs:  70%|███████   | 21/30 [25:03<10:44, 71.57s/epoch]"
     ]
    },
    {
     "name": "stdout",
     "output_type": "stream",
     "text": [
      "Epoch 21/30  train_loss(z)=0.1797  |  val_RMSE=0.7599  MAE=0.5714  R2=0.7959\n"
     ]
    },
    {
     "name": "stderr",
     "output_type": "stream",
     "text": [
      "Epochs:  73%|███████▎  | 22/30 [26:14<09:32, 71.62s/epoch]"
     ]
    },
    {
     "name": "stdout",
     "output_type": "stream",
     "text": [
      "Epoch 22/30  train_loss(z)=0.1743  |  val_RMSE=0.7506  MAE=0.5611  R2=0.8009\n"
     ]
    },
    {
     "name": "stderr",
     "output_type": "stream",
     "text": [
      "Epochs:  77%|███████▋  | 23/30 [27:26<08:21, 71.64s/epoch]"
     ]
    },
    {
     "name": "stdout",
     "output_type": "stream",
     "text": [
      "Epoch 23/30  train_loss(z)=0.1692  |  val_RMSE=0.7391  MAE=0.5448  R2=0.8069\n"
     ]
    },
    {
     "name": "stderr",
     "output_type": "stream",
     "text": [
      "Epochs:  80%|████████  | 24/30 [28:38<07:09, 71.60s/epoch]"
     ]
    },
    {
     "name": "stdout",
     "output_type": "stream",
     "text": [
      "Epoch 24/30  train_loss(z)=0.1644  |  val_RMSE=0.7398  MAE=0.5472  R2=0.8065\n"
     ]
    },
    {
     "name": "stderr",
     "output_type": "stream",
     "text": [
      "Epochs:  83%|████████▎ | 25/30 [29:49<05:58, 71.63s/epoch]"
     ]
    },
    {
     "name": "stdout",
     "output_type": "stream",
     "text": [
      "Epoch 25/30  train_loss(z)=0.1605  |  val_RMSE=0.7332  MAE=0.5400  R2=0.8100\n"
     ]
    },
    {
     "name": "stderr",
     "output_type": "stream",
     "text": [
      "Epochs:  87%|████████▋ | 26/30 [31:01<04:46, 71.58s/epoch]"
     ]
    },
    {
     "name": "stdout",
     "output_type": "stream",
     "text": [
      "Epoch 26/30  train_loss(z)=0.1566  |  val_RMSE=0.7296  MAE=0.5354  R2=0.8118\n"
     ]
    },
    {
     "name": "stderr",
     "output_type": "stream",
     "text": [
      "Epochs:  90%|█████████ | 27/30 [32:12<03:34, 71.57s/epoch]"
     ]
    },
    {
     "name": "stdout",
     "output_type": "stream",
     "text": [
      "Epoch 27/30  train_loss(z)=0.1545  |  val_RMSE=0.7295  MAE=0.5371  R2=0.8119\n"
     ]
    },
    {
     "name": "stderr",
     "output_type": "stream",
     "text": [
      "Epochs:  93%|█████████▎| 28/30 [33:24<02:23, 71.61s/epoch]"
     ]
    },
    {
     "name": "stdout",
     "output_type": "stream",
     "text": [
      "Epoch 28/30  train_loss(z)=0.1520  |  val_RMSE=0.7280  MAE=0.5353  R2=0.8127\n"
     ]
    },
    {
     "name": "stderr",
     "output_type": "stream",
     "text": [
      "Epochs:  97%|█████████▋| 29/30 [34:36<01:11, 71.62s/epoch]"
     ]
    },
    {
     "name": "stdout",
     "output_type": "stream",
     "text": [
      "Epoch 29/30  train_loss(z)=0.1503  |  val_RMSE=0.7276  MAE=0.5350  R2=0.8129\n"
     ]
    },
    {
     "name": "stderr",
     "output_type": "stream",
     "text": [
      "Epochs: 100%|██████████| 30/30 [35:47<00:00, 71.59s/epoch]"
     ]
    },
    {
     "name": "stdout",
     "output_type": "stream",
     "text": [
      "Epoch 30/30  train_loss(z)=0.1498  |  val_RMSE=0.7283  MAE=0.5363  R2=0.8125\n"
     ]
    },
    {
     "name": "stderr",
     "output_type": "stream",
     "text": [
      "\n",
      "/tmpdata/ipykernel_49968/1076489962.py:275: FutureWarning: You are using `torch.load` with `weights_only=False` (the current default value), which uses the default pickle module implicitly. It is possible to construct malicious pickle data which will execute arbitrary code during unpickling (See https://github.com/pytorch/pytorch/blob/main/SECURITY.md#untrusted-models for more details). In a future release, the default value for `weights_only` will be flipped to `True`. This limits the functions that could be executed during unpickling. Arbitrary objects will no longer be allowed to be loaded via this mode unless they are explicitly allowlisted by the user via `torch.serialization.add_safe_globals`. We recommend you start setting `weights_only=True` for any use case where you don't have full control of the loaded file. Please open an issue on GitHub for any issues related to this experimental feature.\n",
      "  ckpt = torch.load(best_path, map_location=device)\n"
     ]
    },
    {
     "name": "stdout",
     "output_type": "stream",
     "text": [
      "\n",
      "TEST  RMSE=0.7303  MAE=0.5375  R2=0.8108\n",
      "Saved: runs/jupyter_demo/best_model#30.pt\n"
     ]
    },
    {
     "data": {
      "image/png": "[encoded data removed]",
      "text/plain": [
       "<Figure size 640x480 with 1 Axes>"
      ]
     },
     "metadata": {},
     "output_type": "display_data"
    },
    {
     "data": {
      "image/png": "[encoded data removed]",
      "text/plain": [
       "<Figure size 640x480 with 1 Axes>"
      ]
     },
     "metadata": {},
     "output_type": "display_data"
    }
   ],
   "source": [
    "# %% [markdown]\n",
    "# DeepDTA-style regression in one cell (SMILES + protein sequence -> pAff)\n",
    "# Requires: pip install torch pandas numpy scikit-learn tqdm matplotlib\n",
    "\n",
    "# %%\n",
    "# CONFIG — adjust as needed\n",
    "CONFIG = {\n",
    "    \"path\": \"bindingdb_cleaned_full.csv\",   # CSV or TSV; must have: Ligand SMILES, BindingDB Target Chain Sequence 1, pAff\n",
    "    \"outdir\": \"runs/jupyter_demo\",\n",
    "    \"epochs\": 30,            # increased to 30\n",
    "    \"batch_size\": 512,\n",
    "    \"lr\": 1e-3,\n",
    "    \"max_len_smi\": 200,\n",
    "    \"max_len_prot\": 1000,\n",
    "    \"val_size\": 0.1,\n",
    "    \"test_size\": 0.1,\n",
    "    \"seed\": 42,\n",
    "    \"limit_rows\": 0,         # set >0 to subsample for quick tests\n",
    "    \"num_workers\": 4,        # set 0 on Windows or if you hit DataLoader issues\n",
    "}\n",
    "\n",
    "# %%\n",
    "import os, math, json, random, re\n",
    "import numpy as np\n",
    "import pandas as pd\n",
    "from sklearn.model_selection import train_test_split, StratifiedShuffleSplit\n",
    "from sklearn.metrics import mean_squared_error, mean_absolute_error, r2_score\n",
    "import torch\n",
    "import torch.nn as nn\n",
    "from torch.utils.data import Dataset, DataLoader\n",
    "from tqdm.auto import tqdm, trange\n",
    "import matplotlib.pyplot as plt\n",
    "\n",
    "# ---- helpers ----\n",
    "def set_seed(seed):\n",
    "    random.seed(seed); np.random.seed(seed)\n",
    "    torch.manual_seed(seed); torch.cuda.manual_seed_all(seed)\n",
    "\n",
    "def detect_sep(path): return \"\\t\" if path.lower().endswith(\".tsv\") else \",\"\n",
    "\n",
    "AMINO_ACIDS = list(\"ACDEFGHIKLMNPQRSTVWY\")  # 20 canonical\n",
    "SMILES_CHARS = list(\"#%()+-./0123456789=@ABCFHILMNOPRSTVXZ[\\\\]acegilnoprstuy\")\n",
    "\n",
    "def build_vocab(chars, add_pad=True, add_unk=True):\n",
    "    vocab, i = {}, 0\n",
    "    if add_pad: vocab[\"<pad>\"] = i; i += 1\n",
    "    if add_unk: vocab[\"<unk>\"] = i; i += 1\n",
    "    for c in chars:\n",
    "        if c not in vocab:\n",
    "            vocab[c] = i; i += 1\n",
    "    return vocab\n",
    "\n",
    "SMI_VOCAB = build_vocab(SMILES_CHARS)\n",
    "PROT_VOCAB = build_vocab(AMINO_ACIDS)\n",
    "\n",
    "def encode(text, vocab, max_len):\n",
    "    s = str(text)\n",
    "    ids = [vocab.get(ch, vocab[\"<unk>\"]) for ch in s[:max_len]]\n",
    "    pad_id = vocab[\"<pad>\"]\n",
    "    if len(ids) < max_len:\n",
    "        ids += [pad_id] * (max_len - len(ids))\n",
    "    return np.array(ids, dtype=np.int64)\n",
    "\n",
    "# ---- dataset ----\n",
    "class AffinityDataset(Dataset):\n",
    "    def __init__(self, df, max_len_smi=200, max_len_prot=1000, y_mean=None, y_std=None, zscore=True):\n",
    "        self.smi = df[\"Ligand SMILES\"].astype(str).values\n",
    "        self.prot = df[\"BindingDB Target Chain Sequence 1\"].astype(str).values\n",
    "        self.y = df[\"pAff\"].astype(float).values\n",
    "        self.max_len_smi, self.max_len_prot = max_len_smi, max_len_prot\n",
    "        self.zscore = zscore\n",
    "        if zscore:\n",
    "            self.y_mean = self.y.mean() if y_mean is None else y_mean\n",
    "            self.y_std  = (self.y.std() + 1e-8) if y_std is None else y_std\n",
    "            self.yz = (self.y - self.y_mean) / self.y_std\n",
    "        else:\n",
    "            self.y_mean = self.y_std = None\n",
    "            self.yz = self.y\n",
    "\n",
    "    def __len__(self): return len(self.y)\n",
    "    def __getitem__(self, idx):\n",
    "        xs = torch.from_numpy(encode(self.smi[idx], SMI_VOCAB, self.max_len_smi))\n",
    "        xp = torch.from_numpy(encode(self.prot[idx], PROT_VOCAB, self.max_len_prot))\n",
    "        y  = torch.tensor([self.yz[idx]], dtype=torch.float32)\n",
    "        return xs, xp, y\n",
    "\n",
    "# ---- model ----\n",
    "class CNNEncoder(nn.Module):\n",
    "    def __init__(self, vocab_size, emb_dim, channels, kernels, dropout=0.1):\n",
    "        super().__init__()\n",
    "        self.emb = nn.Embedding(vocab_size, emb_dim, padding_idx=0)\n",
    "        convs = []\n",
    "        in_ch = emb_dim\n",
    "        for k, ch in zip(kernels, channels):\n",
    "            convs.append(nn.Sequential(\n",
    "                nn.Conv1d(in_ch, ch, kernel_size=k, padding=k//2),\n",
    "                nn.ReLU(),\n",
    "                nn.BatchNorm1d(ch)\n",
    "            ))\n",
    "            in_ch = ch\n",
    "        self.convs = nn.ModuleList(convs)\n",
    "        self.drop = nn.Dropout(dropout)\n",
    "\n",
    "    def forward(self, x):           # (B, L)\n",
    "        x = self.emb(x)             # (B, L, E)\n",
    "        x = x.transpose(1, 2)       # (B, E, L)\n",
    "        for block in self.convs:\n",
    "            x = block(x)\n",
    "        x = torch.max(x, dim=2).values   # global max pool -> (B, C)\n",
    "        return self.drop(x)\n",
    "\n",
    "class DeepDTARegressor(nn.Module):\n",
    "    def __init__(self,\n",
    "                 smi_vocab_size, prot_vocab_size,\n",
    "                 emb_smi=64, emb_prot=64,\n",
    "                 smi_channels=(128,128,128), prot_channels=(256,256,256),\n",
    "                 smi_kernels=(5,7,11), prot_kernels=(7,11,15),\n",
    "                 hidden=512, dropout=0.2):\n",
    "        super().__init__()\n",
    "        self.smi_enc  = CNNEncoder(smi_vocab_size,  emb_smi,  smi_channels,  smi_kernels,  dropout)\n",
    "        self.prot_enc = CNNEncoder(prot_vocab_size, emb_prot, prot_channels, prot_kernels, dropout)\n",
    "        fused = smi_channels[-1] + prot_channels[-1]\n",
    "        self.mlp = nn.Sequential(\n",
    "            nn.Linear(fused, hidden),\n",
    "            nn.ReLU(),\n",
    "            nn.Dropout(dropout),\n",
    "            nn.Linear(hidden, 1)\n",
    "        )\n",
    "    def forward(self, xs, xp):\n",
    "        hs = self.smi_enc(xs)\n",
    "        hp = self.prot_enc(xp)\n",
    "        return self.mlp(torch.cat([hs, hp], dim=1))\n",
    "\n",
    "# ---- robust stratified split ----\n",
    "def stratify_bins(y, max_bins=12, min_count=2):\n",
    "    y = pd.Series(y).astype(float)\n",
    "    for b in range(max_bins, 1, -1):\n",
    "        q = pd.qcut(y, q=b, labels=False, duplicates=\"drop\")\n",
    "        vc = q.value_counts()\n",
    "        if (vc >= min_count).all() and len(vc) >= 2:\n",
    "            return q.values\n",
    "    return None\n",
    "\n",
    "def stratified_split_by_value(df, ycol, test_size, random_state):\n",
    "    ybins = stratify_bins(df[ycol], max_bins=12, min_count=2)\n",
    "    if ybins is None:\n",
    "        return train_test_split(df, test_size=test_size, random_state=random_state, shuffle=True, stratify=None)\n",
    "    sss = StratifiedShuffleSplit(n_splits=1, test_size=test_size, random_state=random_state)\n",
    "    idx_train, idx_test = next(sss.split(df, ybins))\n",
    "    return df.iloc[idx_train].reset_index(drop=True), df.iloc[idx_test].reset_index(drop=True)\n",
    "\n",
    "# ---- eval ----\n",
    "def evaluate(model, loader, device, y_mean, y_std, zscore=True):\n",
    "    model.eval()\n",
    "    preds, trues = [], []\n",
    "    with torch.no_grad():\n",
    "        for xs, xp, y in loader:\n",
    "            xs, xp, y = xs.to(device), xp.to(device), y.to(device)\n",
    "            out = model(xs, xp)\n",
    "            preds.append(out.cpu().numpy())\n",
    "            trues.append(y.cpu().numpy())\n",
    "    preds = np.concatenate(preds, 0).squeeze()\n",
    "    trues = np.concatenate(trues, 0).squeeze()\n",
    "    if zscore:\n",
    "        preds = preds * y_std + y_mean\n",
    "        trues = trues * y_std + y_mean\n",
    "    rmse = math.sqrt(mean_squared_error(trues, preds))\n",
    "    mae  = mean_absolute_error(trues, preds)\n",
    "    r2   = r2_score(trues, preds)\n",
    "    return rmse, mae, r2\n",
    "\n",
    "# ---- main ----\n",
    "os.makedirs(CONFIG[\"outdir\"], exist_ok=True)\n",
    "set_seed(CONFIG[\"seed\"])\n",
    "\n",
    "sep = detect_sep(CONFIG[\"path\"])\n",
    "df = pd.read_csv(CONFIG[\"path\"], sep=sep, low_memory=False)\n",
    "\n",
    "needed = {\"Ligand SMILES\", \"BindingDB Target Chain Sequence 1\", \"pAff\"}\n",
    "miss = needed - set(df.columns)\n",
    "if miss:\n",
    "    raise ValueError(f\"Missing required columns: {miss}\")\n",
    "\n",
    "df = df.dropna(subset=[\"Ligand SMILES\",\"BindingDB Target Chain Sequence 1\",\"pAff\"]).copy()\n",
    "df = df[df[\"pAff\"].astype(str).str.match(r\"^-?\\d+(\\.\\d+)?$\")]\n",
    "df[\"pAff\"] = df[\"pAff\"].astype(float)\n",
    "\n",
    "if CONFIG[\"limit_rows\"] and len(df) > CONFIG[\"limit_rows\"]:\n",
    "    df = df.sample(CONFIG[\"limit_rows\"], random_state=CONFIG[\"seed\"]).reset_index(drop=True)\n",
    "\n",
    "df_train, df_tmp = stratified_split_by_value(\n",
    "    df, ycol=\"pAff\", test_size=CONFIG[\"val_size\"] + CONFIG[\"test_size\"], random_state=CONFIG[\"seed\"]\n",
    ")\n",
    "rel_test = CONFIG[\"test_size\"] / (CONFIG[\"val_size\"] + CONFIG[\"test_size\"] + 1e-8)\n",
    "df_val, df_test = stratified_split_by_value(\n",
    "    df_tmp, ycol=\"pAff\", test_size=rel_test, random_state=CONFIG[\"seed\"]\n",
    ")\n",
    "\n",
    "y_mean, y_std = df_train[\"pAff\"].mean(), df_train[\"pAff\"].std() + 1e-8\n",
    "train_ds = AffinityDataset(df_train, CONFIG[\"max_len_smi\"], CONFIG[\"max_len_prot\"], y_mean, y_std, zscore=True)\n",
    "val_ds   = AffinityDataset(df_val,   CONFIG[\"max_len_smi\"], CONFIG[\"max_len_prot\"], y_mean, y_std, zscore=True)\n",
    "test_ds  = AffinityDataset(df_test,  CONFIG[\"max_len_smi\"], CONFIG[\"max_len_prot\"], y_mean, y_std, zscore=True)\n",
    "\n",
    "pin = torch.cuda.is_available()\n",
    "workers = CONFIG[\"num_workers\"]\n",
    "train_loader = DataLoader(train_ds, batch_size=CONFIG[\"batch_size\"], shuffle=True,  num_workers=workers, pin_memory=pin)\n",
    "val_loader   = DataLoader(val_ds,   batch_size=CONFIG[\"batch_size\"], shuffle=False, num_workers=workers, pin_memory=pin)\n",
    "test_loader  = DataLoader(test_ds,  batch_size=CONFIG[\"batch_size\"], shuffle=False, num_workers=workers, pin_memory=pin)\n",
    "\n",
    "device = torch.device(\"cuda\" if torch.cuda.is_available() else \"cpu\")\n",
    "model = DeepDTARegressor(\n",
    "    smi_vocab_size=len(SMI_VOCAB),\n",
    "    prot_vocab_size=len(PROT_VOCAB),\n",
    "    emb_smi=64, emb_prot=64,\n",
    "    smi_channels=(128,128,128),\n",
    "    prot_channels=(256,256,256),\n",
    "    smi_kernels=(5,7,11),\n",
    "    prot_kernels=(7,11,15),\n",
    "    hidden=512, dropout=0.2\n",
    ").to(device)\n",
    "\n",
    "opt = torch.optim.AdamW(model.parameters(), lr=CONFIG[\"lr\"], weight_decay=1e-4)\n",
    "sched = torch.optim.lr_scheduler.CosineAnnealingLR(opt, T_max=max(1, CONFIG[\"epochs\"]))\n",
    "loss_fn = nn.MSELoss()\n",
    "\n",
    "best_val = float(\"inf\")\n",
    "best_path = os.path.join(CONFIG[\"outdir\"], \"best_model#30.pt\")\n",
    "\n",
    "from tqdm.auto import tqdm\n",
    "\n",
    "history = {\n",
    "    \"epoch\": [],\n",
    "    \"train_loss_z\": [],\n",
    "    \"val_rmse\": [],\n",
    "    \"val_mae\": [],\n",
    "    \"val_r2\": []\n",
    "}\n",
    "\n",
    "for epoch in tqdm(range(1, CONFIG[\"epochs\"]+1), desc=\"Epochs\", unit=\"epoch\"):\n",
    "    model.train()\n",
    "    running = 0.0\n",
    "    for xs, xp, y in train_loader:\n",
    "        xs, xp, y = xs.to(device), xp.to(device), y.to(device)\n",
    "        opt.zero_grad()\n",
    "        pred = model(xs, xp)\n",
    "        loss = loss_fn(pred, y)\n",
    "        loss.backward()\n",
    "        opt.step()\n",
    "        running += loss.item() * xs.size(0)\n",
    "    sched.step()\n",
    "\n",
    "    train_loss = running / len(train_ds)\n",
    "    val_rmse, val_mae, val_r2 = evaluate(model, val_loader, device, y_mean, y_std, zscore=True)\n",
    "    print(f\"Epoch {epoch}/{CONFIG['epochs']}  \"\n",
    "          f\"train_loss(z)={train_loss:.4f}  |  val_RMSE={val_rmse:.4f}  \"\n",
    "          f\"MAE={val_mae:.4f}  R2={val_r2:.4f}\")\n",
    "\n",
    "    history[\"epoch\"].append(epoch)\n",
    "    history[\"train_loss_z\"].append(train_loss)\n",
    "    history[\"val_rmse\"].append(val_rmse)\n",
    "    history[\"val_mae\"].append(val_mae)\n",
    "    history[\"val_r2\"].append(val_r2)\n",
    "\n",
    "    if val_rmse < best_val:\n",
    "        best_val = val_rmse\n",
    "        torch.save({\n",
    "            \"model_state\": model.state_dict(),\n",
    "            \"y_mean\": y_mean, \"y_std\": y_std,\n",
    "            \"smi_vocab\": SMI_VOCAB, \"prot_vocab\": PROT_VOCAB,\n",
    "            \"config\": CONFIG\n",
    "        }, best_path)\n",
    "\n",
    "\n",
    "# load best & test\n",
    "ckpt = torch.load(best_path, map_location=device)\n",
    "model.load_state_dict(ckpt[\"model_state\"])\n",
    "test_rmse, test_mae, test_r2 = evaluate(model, test_loader, device, ckpt[\"y_mean\"], ckpt[\"y_std\"], zscore=True)\n",
    "print(f\"\\nTEST  RMSE={test_rmse:.4f}  MAE={test_mae:.4f}  R2={test_r2:.4f}\")\n",
    "\n",
    "# persist metrics and history\n",
    "os.makedirs(CONFIG[\"outdir\"], exist_ok=True)\n",
    "with open(os.path.join(CONFIG[\"outdir\"], \"metrics.json\"), \"w\") as f:\n",
    "    json.dump({\n",
    "        \"val_best_rmse\": best_val,\n",
    "        \"test_rmse\": test_rmse,\n",
    "        \"test_mae\": test_mae,\n",
    "        \"test_r2\": test_r2,\n",
    "        \"n_train\": len(df_train), \"n_val\": len(df_val), \"n_test\": len(df_test)\n",
    "    }, f, indent=2)\n",
    "\n",
    "pd.DataFrame(history).to_csv(os.path.join(CONFIG[\"outdir\"], \"history.csv\"), index=False)\n",
    "\n",
    "# plots\n",
    "plt.figure()\n",
    "plt.plot(history[\"epoch\"], history[\"train_loss_z\"], label=\"train_loss(z)\")\n",
    "plt.xlabel(\"epoch\"); plt.ylabel(\"MSE (z)\"); plt.title(\"Training loss (z-score)\")\n",
    "plt.legend(); plt.tight_layout()\n",
    "plt.savefig(os.path.join(CONFIG[\"outdir\"], \"train_loss_z.png\"), dpi=150)\n",
    "\n",
    "plt.figure()\n",
    "plt.plot(history[\"epoch\"], history[\"val_rmse\"], label=\"val_RMSE\")\n",
    "plt.xlabel(\"epoch\"); plt.ylabel(\"RMSE\"); plt.title(\"Validation RMSE\")\n",
    "plt.legend(); plt.tight_layout()\n",
    "plt.savefig(os.path.join(CONFIG[\"outdir\"], \"val_rmse.png\"), dpi=150)\n",
    "\n",
    "print(\"Saved:\", best_path)\n"
   ]
  }
 ],
 "metadata": {
  "kernelspec": {
   "display_name": "Python (prot_affinity)",
   "language": "python",
   "name": "prot_affinity"
  },
  "language_info": {
   "codemirror_mode": {
    "name": "ipython",
    "version": 3
   },
   "file_extension": ".py",
   "mimetype": "text/x-python",
   "name": "python",
   "nbconvert_exporter": "python",
   "pygments_lexer": "ipython3",
   "version": "3.10.18"
  }
 },
 "nbformat": 4,
 "nbformat_minor": 5
}
